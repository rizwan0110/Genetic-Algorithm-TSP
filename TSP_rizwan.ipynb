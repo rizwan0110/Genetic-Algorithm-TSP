{
 "cells": [
  {
   "cell_type": "code",
   "execution_count": 1,
   "id": "bde6cfff",
   "metadata": {},
   "outputs": [],
   "source": [
    "import math\n",
    "import random\n",
    "import matplotlib.pyplot as plt"
   ]
  },
  {
   "cell_type": "markdown",
   "id": "d50ad8db",
   "metadata": {},
   "source": [
    " Loading of the data set\n",
    "----------------------------\n",
    "- The data containing the city and its co-ordinates is stored in a text file named(city_data)\n",
    "- The first column contains the city names and second and third colum contains the x and y co-ordinates\n",
    "- load_city function is used to get the data from the text file and store in the list for computaion of genetic algorithm"
   ]
  },
  {
   "cell_type": "code",
   "execution_count": 2,
   "id": "2782c96f",
   "metadata": {},
   "outputs": [],
   "source": [
    "def load_city():\n",
    "    city_list=[]\n",
    "    file=open('city_data.txt')\n",
    "#We Loop through the file so that the contents in the file is extracted line by line.\n",
    "    for i in file:\n",
    "        x=i.split()\n",
    "#The lines in file are string by default so we use split method to split the string into a list\n",
    "        x=[x[0],float(x[1]),float(x[2])]\n",
    "        city_list.append(x) \n",
    "#The distances in the list is stored in the type of string so we change the data type to float explicity and \n",
    "#then it is appened to the final list\n",
    "\n",
    "    return city_list\n"
   ]
  },
  {
   "cell_type": "markdown",
   "id": "92cdcd22",
   "metadata": {},
   "source": [
    "## Calculation of the distance between two cities\n",
    "- Distance between two points in coordinate geometry is calculated by the formula d = √[(x2 − x1)2 + (y2 − y1)2], where (x1, y1) and (x2, y2) are two points on the coordinate plane( in our case the cordinates of the particualr city)\n",
    "- We need to use the square and square root to compute the distance formula, which is present in the built in math library(math)."
   ]
  },
  {
   "cell_type": "code",
   "execution_count": 3,
   "id": "6debdf33",
   "metadata": {},
   "outputs": [],
   "source": [
    "def city_distance(city_list): \n",
    "    total_distance=0    \n",
    "    for i in range(len(city_list)-1):\n",
    "        first_city=city_list[i]\n",
    "        second_city=city_list[i+1]\n",
    "        distance=math.sqrt(math.pow(second_city[1]-first_city[1],2) + math.pow(second_city[2]-first_city[2],2))\n",
    "        total_distance+=distance\n",
    "        \n",
    "#We got the distance of the city from the first element in the list till last element,\n",
    "#but we need the distance between the first and last city also.To reach back to the city where the salesman started the journey.\n",
    "  \n",
    "    first_city=city_list[0] #first city\n",
    "    last_city=city_list[-1] #last city\n",
    "    distance=math.sqrt(math.pow(last_city[1]-first_city[1],2) + math.pow(last_city[2]-first_city[2],2))\n",
    "    total_distance+=distance\n",
    "    \n",
    "    return total_distance\n",
    "\n"
   ]
  },
  {
   "cell_type": "markdown",
   "id": "00d3f611",
   "metadata": {},
   "source": [
    "## Creation/selection of population\n",
    "\n",
    "Selection involves selecting individuals from the current population to be parents based on their fitness. It is based on the idea that individuals with better fitness (i.e., those who are closer to the optimal solution) should have a higher chance of being selected.\n"
   ]
  },
  {
   "cell_type": "code",
   "execution_count": 4,
   "id": "3c619c0f",
   "metadata": {},
   "outputs": [],
   "source": [
    "# selecting the population\n",
    "#here it create permuations of solution based on the size we pass,and return the distance \n",
    "def generate_population(city_list, size):\n",
    "    population = []\n",
    "    for i in range(size):\n",
    "        new_city_list= city_list.copy()\n",
    "        random.shuffle(new_city_list)\n",
    "        new_city_distance= city_distance(new_city_list)\n",
    "        population.append([new_city_distance, new_city_list])\n",
    "    return population"
   ]
  },
  {
   "cell_type": "code",
   "execution_count": 5,
   "id": "354ba210",
   "metadata": {},
   "outputs": [],
   "source": [
    "def genetic_algorithm(population,lenCities,tournament_size,mutation_rate,crossover_rate):\n",
    "    gen_number = 0\n",
    "    for i in range(200):\n",
    "        new_population = []\n",
    "\n",
    "#Elitism-selection of the two best solutions\n",
    "        new_population.append(sorted(population)[0])\n",
    "        new_population.append(sorted(population)[1])\n",
    "\n",
    "        for i in range(int((len(population) - 2)/ 2)):\n",
    "            # crossover and selection operation is performed\n",
    "            rn = random.random()\n",
    "            if rn< crossover_rate:\n",
    "                genome_parent1 = sorted(random.choices(population, k=tournament_size))[0]\n",
    "\n",
    "                genome_parent2 = sorted(random.choices(population, k=tournament_size))[0]\n",
    "\n",
    "                point = random.randint(0, lenCities - 1)\n",
    "\n",
    "                genome_child1 = genome_parent1[1][0:point]\n",
    "                for j in genome_parent2[1]:\n",
    "                    if j not in genome_child1:\n",
    "                        genome_child1.append(j)\n",
    "\n",
    "                genome_child2 = genome_parent2[1][0:point]\n",
    "                for j in genome_parent1[1]:\n",
    "                    if j not in genome_child2:\n",
    "                        genome_child2.append(j)\n",
    "\n",
    "            # if the crossover fails,then we take any of the 2 solutions as the 2 child\n",
    "            else:\n",
    "                genome_child1 = random.choices(population)[0][1]\n",
    "                genome_child2 = random.choices(population)[0][1]\n",
    "\n",
    "            # mutation operation\n",
    "            if random.random() < mutation_rate:\n",
    "                point1 = random.randint(0, lenCities - 1)\n",
    "                point2 = random.randint(0, lenCities - 1)\n",
    "                genome_child1[point1], genome_child1[point2] = (genome_child1[point2],genome_child1[point1])\n",
    "\n",
    "                point1 = random.randint(0, lenCities - 1)\n",
    "                point2 = random.randint(0, lenCities - 1)\n",
    "                genome_child2[point1], genome_child2[point2] = genome_child2[point2],genome_child2[point1]\n",
    "                #used to swap the gene from child 2 at different place\n",
    "            new_population.append([city_distance(genome_child1), genome_child1])\n",
    "            new_population.append([city_distance(genome_child2), genome_child2])\n",
    "\n",
    "        population = new_population\n",
    "\n",
    "        gen_number += 1\n",
    "        \n",
    "        print(\"The shortest distance in the generation number\",gen_number,\"is\",sorted(population)[0][0])\n",
    "\n",
    "\n",
    "\n",
    "    result = sorted(population)[0]\n",
    "\n",
    "    return result, gen_number\n",
    "\n"
   ]
  },
  {
   "cell_type": "code",
   "execution_count": 6,
   "id": "af6dd6e5",
   "metadata": {},
   "outputs": [],
   "source": [
    "def construct_map(city_list, shortest_path):\n",
    "\n",
    "    # To plot each cities x and y cordinate and annotate them\n",
    "    for location in city_list:\n",
    "        city_name,long,lat=location[0],location[1],location[2]\n",
    "        plt.plot(long, lat,'o') \n",
    "        plt.annotate(city_name,(long, lat))\n",
    "\n",
    "    for i in range(len(shortest_path[1])-1):\n",
    " \n",
    "        city_left = shortest_path[1][i]\n",
    "        city_right = shortest_path[1][i + 1]\n",
    "\n",
    "        plt.plot([city_left[1], city_right[1]], [city_left[2], city_right[2]],\"green\")\n",
    "\n",
    "    first_city = shortest_path[1][0]\n",
    "    last_city = shortest_path[1][-1]\n",
    "    plt.plot([first_city[1], last_city[1]], [first_city[2], last_city[2]],\"red\")\n",
    "\n",
    "    plt.show()\n",
    "    "
   ]
  },
  {
   "cell_type": "code",
   "execution_count": 7,
   "id": "40abd311",
   "metadata": {},
   "outputs": [
    {
     "ename": "FileNotFoundError",
     "evalue": "[Errno 2] No such file or directory: 'city_data.txt'",
     "output_type": "error",
     "traceback": [
      "\u001b[1;31m---------------------------------------------------------------------------\u001b[0m",
      "\u001b[1;31mFileNotFoundError\u001b[0m                         Traceback (most recent call last)",
      "Cell \u001b[1;32mIn[7], line 7\u001b[0m\n\u001b[0;32m      4\u001b[0m crossover_rate \u001b[38;5;241m=\u001b[39m \u001b[38;5;241m0.8\u001b[39m\n\u001b[0;32m      5\u001b[0m city_names\u001b[38;5;241m=\u001b[39m[]\n\u001b[1;32m----> 7\u001b[0m city_list \u001b[38;5;241m=\u001b[39m load_city()\n\u001b[0;32m      8\u001b[0m firstPopulation\u001b[38;5;241m=\u001b[39m generate_population(city_list, pop_size)\n\u001b[0;32m      9\u001b[0m best_solution,genNumber \u001b[38;5;241m=\u001b[39m genetic_algorithm(firstPopulation,\u001b[38;5;28mlen\u001b[39m(city_list),tournament_size,mutation_rate,crossover_rate)\n",
      "Cell \u001b[1;32mIn[2], line 3\u001b[0m, in \u001b[0;36mload_city\u001b[1;34m()\u001b[0m\n\u001b[0;32m      1\u001b[0m \u001b[38;5;28;01mdef\u001b[39;00m \u001b[38;5;21mload_city\u001b[39m():\n\u001b[0;32m      2\u001b[0m     city_list\u001b[38;5;241m=\u001b[39m[]\n\u001b[1;32m----> 3\u001b[0m     file\u001b[38;5;241m=\u001b[39m\u001b[38;5;28mopen\u001b[39m(\u001b[38;5;124m'\u001b[39m\u001b[38;5;124mcity_data.txt\u001b[39m\u001b[38;5;124m'\u001b[39m)\n\u001b[0;32m      4\u001b[0m \u001b[38;5;66;03m#We Loop through the file so that the contents in the file is extracted line by line.\u001b[39;00m\n\u001b[0;32m      5\u001b[0m     \u001b[38;5;28;01mfor\u001b[39;00m i \u001b[38;5;129;01min\u001b[39;00m file:\n",
      "File \u001b[1;32mE:\\Anaconda\\Lib\\site-packages\\IPython\\core\\interactiveshell.py:284\u001b[0m, in \u001b[0;36m_modified_open\u001b[1;34m(file, *args, **kwargs)\u001b[0m\n\u001b[0;32m    277\u001b[0m \u001b[38;5;28;01mif\u001b[39;00m file \u001b[38;5;129;01min\u001b[39;00m {\u001b[38;5;241m0\u001b[39m, \u001b[38;5;241m1\u001b[39m, \u001b[38;5;241m2\u001b[39m}:\n\u001b[0;32m    278\u001b[0m     \u001b[38;5;28;01mraise\u001b[39;00m \u001b[38;5;167;01mValueError\u001b[39;00m(\n\u001b[0;32m    279\u001b[0m         \u001b[38;5;124mf\u001b[39m\u001b[38;5;124m\"\u001b[39m\u001b[38;5;124mIPython won\u001b[39m\u001b[38;5;124m'\u001b[39m\u001b[38;5;124mt let you open fd=\u001b[39m\u001b[38;5;132;01m{\u001b[39;00mfile\u001b[38;5;132;01m}\u001b[39;00m\u001b[38;5;124m by default \u001b[39m\u001b[38;5;124m\"\u001b[39m\n\u001b[0;32m    280\u001b[0m         \u001b[38;5;124m\"\u001b[39m\u001b[38;5;124mas it is likely to crash IPython. If you know what you are doing, \u001b[39m\u001b[38;5;124m\"\u001b[39m\n\u001b[0;32m    281\u001b[0m         \u001b[38;5;124m\"\u001b[39m\u001b[38;5;124myou can use builtins\u001b[39m\u001b[38;5;124m'\u001b[39m\u001b[38;5;124m open.\u001b[39m\u001b[38;5;124m\"\u001b[39m\n\u001b[0;32m    282\u001b[0m     )\n\u001b[1;32m--> 284\u001b[0m \u001b[38;5;28;01mreturn\u001b[39;00m io_open(file, \u001b[38;5;241m*\u001b[39margs, \u001b[38;5;241m*\u001b[39m\u001b[38;5;241m*\u001b[39mkwargs)\n",
      "\u001b[1;31mFileNotFoundError\u001b[0m: [Errno 2] No such file or directory: 'city_data.txt'"
     ]
    }
   ],
   "source": [
    "\n",
    "pop_size = 1000\n",
    "tournament_size = 5\n",
    "mutation_rate = 0.2\n",
    "crossover_rate = 0.8\n",
    "city_names=[]\n",
    "\n",
    "city_list = load_city()\n",
    "firstPopulation= generate_population(city_list, pop_size)\n",
    "best_solution,genNumber = genetic_algorithm(firstPopulation,len(city_list),tournament_size,mutation_rate,crossover_rate)\n",
    "    \n",
    "#we have a list containing the best solution\n",
    "#we now split that list into 2 seperate variable(shortest_route and shortest_path)\n",
    "shortest_distance=best_solution[0]\n",
    "shortest_route=best_solution[1]\n",
    "    \n",
    "for p in range(len(shortest_route)):\n",
    "    city_names.append(shortest_route[p][0])\n",
    "    \n",
    "\n",
    "print(\"##############################################\")\n",
    "print(\"Final Generation: \",str(genNumber))\n",
    "print(\"##############################################\")    \n",
    "print(\"Shortest distance applying genetic alogorithm ->\",str(shortest_distance))\n",
    "print(\"Shortest route applying genetic alogorithm ->\",city_names)\n",
    "\n",
    "print(\"##############################################\")\n",
    "    \n",
    "construct_map(city_list, best_solution)\n",
    "\n",
    "\n"
   ]
  },
  {
   "cell_type": "code",
   "execution_count": null,
   "id": "ad336022",
   "metadata": {},
   "outputs": [],
   "source": []
  },
  {
   "cell_type": "code",
   "execution_count": null,
   "id": "56cb3c99",
   "metadata": {},
   "outputs": [],
   "source": []
  },
  {
   "cell_type": "code",
   "execution_count": null,
   "id": "08d155db",
   "metadata": {},
   "outputs": [],
   "source": []
  }
 ],
 "metadata": {
  "kernelspec": {
   "display_name": "Python 3 (ipykernel)",
   "language": "python",
   "name": "python3"
  },
  "language_info": {
   "codemirror_mode": {
    "name": "ipython",
    "version": 3
   },
   "file_extension": ".py",
   "mimetype": "text/x-python",
   "name": "python",
   "nbconvert_exporter": "python",
   "pygments_lexer": "ipython3",
   "version": "3.11.4"
  }
 },
 "nbformat": 4,
 "nbformat_minor": 5
}
